{
 "cells": [
  {
   "cell_type": "code",
   "execution_count": 1,
   "metadata": {},
   "outputs": [],
   "source": [
    "# Initial imports\n",
    "import os\n",
    "import requests\n",
    "import pandas as pd\n",
    "from dotenv import load_dotenv\n",
    "\n",
    "#from binance import Client, ThreadedWebsocketManager, ThreadedDepthCacheManager\n",
    "from futures_sign import send_signed_request, send_public_request\n",
    "import ccxt"
   ]
  },
  {
   "cell_type": "code",
   "execution_count": 2,
   "metadata": {},
   "outputs": [
    {
     "name": "stderr",
     "output_type": "stream",
     "text": [
      "Python-dotenv could not parse statement starting at line 4\n"
     ]
    },
    {
     "data": {
      "text/plain": [
       "True"
      ]
     },
     "execution_count": 2,
     "metadata": {},
     "output_type": "execute_result"
    }
   ],
   "source": [
    "load_dotenv()"
   ]
  },
  {
   "cell_type": "code",
   "execution_count": 3,
   "metadata": {},
   "outputs": [],
   "source": [
    "bybit_api_key = os.getenv(\"BYBIT_API_KEY\")\n",
    "bybit_api_secret_key = os.getenv(\"BYBIT_API_SECRET_KEY\")"
   ]
  },
  {
   "cell_type": "code",
   "execution_count": 4,
   "metadata": {},
   "outputs": [
    {
     "name": "stdout",
     "output_type": "stream",
     "text": [
      "Alpaca Key type: <class 'str'>\n",
      "Alpaca Secret Key type: <class 'str'>\n",
      "Alpaca API Key:  dDjwN3n6kVe3iaOyxg\n",
      "Alpaca API Secret Key:  Dg7qWbSG8KQr6VsFUBARvS4RoxvuYQZAy725\n"
     ]
    }
   ],
   "source": [
    "# Verify that Alpaca key and secret were correctly loaded\n",
    "print(f\"Alpaca Key type: {type(bybit_api_key)}\")\n",
    "print(f\"Alpaca Secret Key type: {type(bybit_api_secret_key)}\")\n",
    "print(f\"Alpaca API Key: \", bybit_api_key)\n",
    "print(f\"Alpaca API Secret Key: \", bybit_api_secret_key)"
   ]
  },
  {
   "cell_type": "code",
   "execution_count": 5,
   "metadata": {},
   "outputs": [
    {
     "name": "stdout",
     "output_type": "stream",
     "text": [
      "['alpaca', 'ascendex', 'bequant', 'bigone', 'binance', 'binancecoinm', 'binanceus', 'binanceusdm', 'bit2c', 'bitbank', 'bitbay', 'bitbns', 'bitcoincom', 'bitfinex', 'bitfinex2', 'bitflyer', 'bitforex', 'bitget', 'bithumb', 'bitmart', 'bitmex', 'bitopro', 'bitpanda', 'bitrue', 'bitso', 'bitstamp', 'bitstamp1', 'bittrex', 'bitvavo', 'bkex', 'bl3p', 'blockchaincom', 'btcalpha', 'btcbox', 'btcex', 'btcmarkets', 'btctradeua', 'btcturk', 'buda', 'bybit', 'cex', 'coinbase', 'coinbaseprime', 'coinbasepro', 'coincheck', 'coinex', 'coinfalcon', 'coinmate', 'coinone', 'coinspot', 'cryptocom', 'currencycom', 'delta', 'deribit', 'digifinex', 'exmo', 'flowbtc', 'fmfwio', 'gate', 'gateio', 'gemini', 'hitbtc', 'hitbtc3', 'hollaex', 'huobi', 'huobijp', 'huobipro', 'idex', 'independentreserve', 'indodax', 'itbit', 'kraken', 'kucoin', 'kucoinfutures', 'kuna', 'latoken', 'lbank', 'lbank2', 'luno', 'lykke', 'mercado', 'mexc', 'mexc3', 'ndax', 'novadax', 'oceanex', 'okcoin', 'okex', 'okex5', 'okx', 'paymium', 'phemex', 'poloniex', 'probit', 'qtrade', 'ripio', 'stex', 'therock', 'tidex', 'timex', 'tokocrypto', 'upbit', 'wavesexchange', 'wazirx', 'whitebit', 'woo', 'yobit', 'zaif', 'zb', 'zipmex', 'zonda']\n"
     ]
    }
   ],
   "source": [
    "print (ccxt.exchanges)\n"
   ]
  },
  {
   "cell_type": "code",
   "execution_count": 6,
   "metadata": {},
   "outputs": [],
   "source": [
    "bybit = ccxt.bybit({\n",
    "    \"enableRateLimit\": True,\n",
    "    \"apiKey\": bybit_api_key,\n",
    "    \"secret\" : bybit_api_secret_key\n",
    "})\n"
   ]
  },
  {
   "cell_type": "code",
   "execution_count": 9,
   "metadata": {},
   "outputs": [
    {
     "name": "stdout",
     "output_type": "stream",
     "text": [
      "{'info': {'retCode': '0', 'retMsg': 'OK', 'result': {'list': [{'coin': 'BTC', 'equity': '0', 'walletBalance': '0', 'positionMargin': '0', 'availableBalance': '0', 'orderMargin': '0', 'occClosingFee': '0', 'occFundingFee': '0', 'unrealisedPnl': '0', 'cumRealisedPnl': '0', 'givenCash': '0', 'serviceCash': '0', 'accountIM': '', 'accountMM': ''}, {'coin': 'ETH', 'equity': '0', 'walletBalance': '0', 'positionMargin': '0', 'availableBalance': '0', 'orderMargin': '0', 'occClosingFee': '0', 'occFundingFee': '0', 'unrealisedPnl': '0', 'cumRealisedPnl': '0', 'givenCash': '0', 'serviceCash': '0', 'accountIM': '', 'accountMM': ''}, {'coin': 'EOS', 'equity': '0', 'walletBalance': '0', 'positionMargin': '0', 'availableBalance': '0', 'orderMargin': '0', 'occClosingFee': '0', 'occFundingFee': '0', 'unrealisedPnl': '0', 'cumRealisedPnl': '0', 'givenCash': '0', 'serviceCash': '0', 'accountIM': '', 'accountMM': ''}, {'coin': 'XRP', 'equity': '0', 'walletBalance': '0', 'positionMargin': '0', 'availableBalance': '0', 'orderMargin': '0', 'occClosingFee': '0', 'occFundingFee': '0', 'unrealisedPnl': '0', 'cumRealisedPnl': '0', 'givenCash': '0', 'serviceCash': '0', 'accountIM': '', 'accountMM': ''}, {'coin': 'USDT', 'equity': '0', 'walletBalance': '0', 'positionMargin': '0', 'availableBalance': '0', 'orderMargin': '0', 'occClosingFee': '0', 'occFundingFee': '0', 'unrealisedPnl': '0', 'cumRealisedPnl': '0', 'givenCash': '0', 'serviceCash': '0', 'accountIM': '', 'accountMM': ''}, {'coin': 'DOT', 'equity': '0', 'walletBalance': '0', 'positionMargin': '0', 'availableBalance': '0', 'orderMargin': '0', 'occClosingFee': '0', 'occFundingFee': '0', 'unrealisedPnl': '0', 'cumRealisedPnl': '0', 'givenCash': '0', 'serviceCash': '0', 'accountIM': '', 'accountMM': ''}, {'coin': 'LTC', 'equity': '0', 'walletBalance': '0', 'positionMargin': '0', 'availableBalance': '0', 'orderMargin': '0', 'occClosingFee': '0', 'occFundingFee': '0', 'unrealisedPnl': '0', 'cumRealisedPnl': '0', 'givenCash': '0', 'serviceCash': '0', 'accountIM': '', 'accountMM': ''}, {'coin': 'BIT', 'equity': '0', 'walletBalance': '0', 'positionMargin': '0', 'availableBalance': '0', 'orderMargin': '0', 'occClosingFee': '0', 'occFundingFee': '0', 'unrealisedPnl': '0', 'cumRealisedPnl': '0', 'givenCash': '0', 'serviceCash': '0', 'accountIM': '', 'accountMM': ''}, {'coin': 'USDC', 'equity': '0', 'walletBalance': '0', 'positionMargin': '0', 'availableBalance': '0', 'orderMargin': '0', 'occClosingFee': '0', 'occFundingFee': '0', 'unrealisedPnl': '0', 'cumRealisedPnl': '0', 'givenCash': '0', 'serviceCash': '0', 'accountIM': '0', 'accountMM': '0'}, {'coin': 'ADA', 'equity': '0', 'walletBalance': '0', 'positionMargin': '0', 'availableBalance': '0', 'orderMargin': '0', 'occClosingFee': '0', 'occFundingFee': '0', 'unrealisedPnl': '0', 'cumRealisedPnl': '0', 'givenCash': '0', 'serviceCash': '0', 'accountIM': '', 'accountMM': ''}, {'coin': 'MANA', 'equity': '0', 'walletBalance': '0', 'positionMargin': '0', 'availableBalance': '0', 'orderMargin': '0', 'occClosingFee': '0', 'occFundingFee': '0', 'unrealisedPnl': '0', 'cumRealisedPnl': '0', 'givenCash': '0', 'serviceCash': '0', 'accountIM': '', 'accountMM': ''}]}, 'retExtInfo': {}, 'time': '1681828427198'}, 'BTC': {'free': 0.0, 'used': 0.0, 'total': 0.0}, 'ETH': {'free': 0.0, 'used': 0.0, 'total': 0.0}, 'EOS': {'free': 0.0, 'used': 0.0, 'total': 0.0}, 'XRP': {'free': 0.0, 'used': 0.0, 'total': 0.0}, 'USDT': {'free': 0.0, 'used': 0.0, 'total': 0.0}, 'DOT': {'free': 0.0, 'used': 0.0, 'total': 0.0}, 'LTC': {'free': 0.0, 'used': 0.0, 'total': 0.0}, 'BIT': {'free': 0.0, 'used': 0.0, 'total': 0.0}, 'USDC': {'free': 0.0, 'used': 0.0, 'total': 0.0}, 'ADA': {'free': 0.0, 'used': 0.0, 'total': 0.0}, 'MANA': {'free': 0.0, 'used': 0.0, 'total': 0.0}, 'free': {'BTC': 0.0, 'ETH': 0.0, 'EOS': 0.0, 'XRP': 0.0, 'USDT': 0.0, 'DOT': 0.0, 'LTC': 0.0, 'BIT': 0.0, 'USDC': 0.0, 'ADA': 0.0, 'MANA': 0.0}, 'used': {'BTC': 0.0, 'ETH': 0.0, 'EOS': 0.0, 'XRP': 0.0, 'USDT': 0.0, 'DOT': 0.0, 'LTC': 0.0, 'BIT': 0.0, 'USDC': 0.0, 'ADA': 0.0, 'MANA': 0.0}, 'total': {'BTC': 0.0, 'ETH': 0.0, 'EOS': 0.0, 'XRP': 0.0, 'USDT': 0.0, 'DOT': 0.0, 'LTC': 0.0, 'BIT': 0.0, 'USDC': 0.0, 'ADA': 0.0, 'MANA': 0.0}}\n"
     ]
    }
   ],
   "source": [
    "print(bybit.fetch_balance())"
   ]
  }
 ],
 "metadata": {
  "kernelspec": {
   "display_name": "algo",
   "language": "python",
   "name": "python3"
  },
  "language_info": {
   "codemirror_mode": {
    "name": "ipython",
    "version": 3
   },
   "file_extension": ".py",
   "mimetype": "text/x-python",
   "name": "python",
   "nbconvert_exporter": "python",
   "pygments_lexer": "ipython3",
   "version": "3.7.13"
  },
  "orig_nbformat": 4
 },
 "nbformat": 4,
 "nbformat_minor": 2
}
